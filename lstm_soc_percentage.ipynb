{
  "cells": [
    {
      "cell_type": "markdown",
      "metadata": {
        "id": "jw9FMur02UtZ"
      },
      "source": [
        "# Main notebook for battery state estimation"
      ]
    },
    {
      "cell_type": "code",
      "execution_count": 1,
      "metadata": {
        "colab": {
          "base_uri": "https://localhost:8080/"
        },
        "id": "XKxZ90kO2Uta",
        "outputId": "4b8ac058-4a2d-4a87-b44b-63986dd888d7"
      },
      "outputs": [
        {
          "name": "stderr",
          "output_type": "stream",
          "text": [
            "2025-02-11 17:08:45.050090: I tensorflow/core/platform/cpu_feature_guard.cc:193] This TensorFlow binary is optimized with oneAPI Deep Neural Network Library (oneDNN) to use the following CPU instructions in performance-critical operations:  AVX2 AVX_VNNI FMA\n",
            "To enable them in other operations, rebuild TensorFlow with the appropriate compiler flags.\n",
            "2025-02-11 17:08:45.248123: I tensorflow/core/util/util.cc:169] oneDNN custom operations are on. You may see slightly different numerical results due to floating-point round-off errors from different computation orders. To turn them off, set the environment variable `TF_ENABLE_ONEDNN_OPTS=0`.\n",
            "2025-02-11 17:08:45.278845: W tensorflow/stream_executor/platform/default/dso_loader.cc:64] Could not load dynamic library 'libcudart.so.11.0'; dlerror: libcudart.so.11.0: cannot open shared object file: No such file or directory\n",
            "2025-02-11 17:08:45.278864: I tensorflow/stream_executor/cuda/cudart_stub.cc:29] Ignore above cudart dlerror if you do not have a GPU set up on your machine.\n",
            "2025-02-11 17:08:45.318535: E tensorflow/stream_executor/cuda/cuda_blas.cc:2981] Unable to register cuBLAS factory: Attempting to register factory for plugin cuBLAS when one has already been registered\n",
            "2025-02-11 17:08:46.014174: W tensorflow/stream_executor/platform/default/dso_loader.cc:64] Could not load dynamic library 'libnvinfer.so.7'; dlerror: libnvinfer.so.7: cannot open shared object file: No such file or directory\n",
            "2025-02-11 17:08:46.014323: W tensorflow/stream_executor/platform/default/dso_loader.cc:64] Could not load dynamic library 'libnvinfer_plugin.so.7'; dlerror: libnvinfer_plugin.so.7: cannot open shared object file: No such file or directory\n",
            "2025-02-11 17:08:46.014329: W tensorflow/compiler/tf2tensorrt/utils/py_utils.cc:38] TF-TRT Warning: Cannot dlopen some TensorRT libraries. If you would like to use Nvidia GPU with TensorRT, please make sure the missing libraries mentioned above are installed properly.\n"
          ]
        }
      ],
      "source": [
        "import numpy as np\n",
        "import pandas as pd\n",
        "import scipy.io\n",
        "import math\n",
        "import os\n",
        "import ntpath\n",
        "import sys\n",
        "import logging\n",
        "import time\n",
        "import sys\n",
        "\n",
        "from importlib import reload\n",
        "import plotly.graph_objects as go\n",
        "\n",
        "import tensorflow as tf\n",
        "from tensorflow import keras\n",
        "from tensorflow.keras import layers\n",
        "\n",
        "from keras.models import Sequential\n",
        "from keras.layers.core import Dense, Dropout, Activation\n",
        "from keras.optimizers import SGD, Adam\n",
        "from keras.utils import np_utils\n",
        "from keras.layers import LSTM, Embedding, RepeatVector, TimeDistributed, Masking\n",
        "from keras.callbacks import EarlyStopping, ModelCheckpoint, LambdaCallback\n",
        "\n",
        "\n",
        "IS_COLAB = False\n",
        "\n",
        "if IS_COLAB:\n",
        "    from google.colab import drive\n",
        "    drive.mount('/content/drive')\n",
        "    data_path = \"/content/drive/My Drive/battery-state-estimation/battery-state-estimation/\"\n",
        "else:\n",
        "    data_path = \"../\"\n",
        "\n",
        "sys.path.append(data_path)\n",
        "from data_processing.unibo_powertools_data import UniboPowertoolsData, CycleCols\n",
        "from data_processing.model_data_handler import ModelDataHandler"
      ]
    },
    {
      "cell_type": "markdown",
      "metadata": {
        "id": "MfVCRISs2Utc"
      },
      "source": [
        "### Config logging"
      ]
    },
    {
      "cell_type": "code",
      "execution_count": 2,
      "metadata": {
        "id": "K2IvySBk2Utd"
      },
      "outputs": [],
      "source": [
        "reload(logging)\n",
        "logging.basicConfig(format='%(asctime)s [%(levelname)s]: %(message)s', level=logging.DEBUG, datefmt='%Y/%m/%d %H:%M:%S')"
      ]
    },
    {
      "cell_type": "markdown",
      "metadata": {
        "id": "KsbkwTX22Utf"
      },
      "source": [
        "# Load Data"
      ]
    },
    {
      "cell_type": "markdown",
      "metadata": {
        "id": "wGH78-0Z2Utg"
      },
      "source": [
        "### Initial the data object\n",
        "\n",
        "Load the cycle and capacity data to memory based on the specified chunk size"
      ]
    },
    {
      "cell_type": "code",
      "execution_count": 3,
      "metadata": {
        "colab": {
          "base_uri": "https://localhost:8080/"
        },
        "id": "DrHYRy-a2Utg",
        "outputId": "857ae721-7b01-4190-9963-113300d31149"
      },
      "outputs": [
        {
          "name": "stderr",
          "output_type": "stream",
          "text": [
            "2025/02/11 17:08:47 [DEBUG]: Start loading data with lines: [37, 40], types: ['S'] and chunksize: 1000000...\n",
            "2025/02/11 17:09:11 [DEBUG]: Finish loading data.\n",
            "2025/02/11 17:09:11 [INFO]: Loaded raw Unibo Powertools data with cycle row count: 8214789 and capacity row count: 21876\n",
            "2025/02/11 17:09:11 [DEBUG]: Start cleaning cycle raw data...\n",
            "2025/02/11 17:09:15 [DEBUG]: Finish cleaning cycle raw data.\n",
            "2025/02/11 17:09:15 [INFO]: Removed 5 rows of abnormal cycle raw data.\n",
            "2025/02/11 17:09:15 [DEBUG]: Start cleaning capacity raw data...\n",
            "2025/02/11 17:09:15 [DEBUG]: Finish cleaning capacity raw data.\n",
            "2025/02/11 17:09:15 [INFO]: Removed 1 rows of abnormal capacity raw data.\n",
            "2025/02/11 17:09:15 [DEBUG]: Start assigning charging raw data...\n",
            "2025/02/11 17:09:15 [DEBUG]: Finish assigning charging raw data.\n",
            "2025/02/11 17:09:15 [INFO]: [Charging] cycle raw count: 6355867, capacity raw count: 10942\n",
            "2025/02/11 17:09:15 [DEBUG]: Start assigning discharging raw data...\n",
            "2025/02/11 17:09:15 [DEBUG]: Finish assigning discharging raw data.\n",
            "2025/02/11 17:09:15 [INFO]: [Discharging] cycle raw count: 1858917, capacity raw count: 10933\n"
          ]
        }
      ],
      "source": [
        "dataset = UniboPowertoolsData(\n",
        "    test_types=['S'],\n",
        "    chunk_size=1000000,\n",
        "    lines=[37, 40],\n",
        "    charge_line=37,\n",
        "    discharge_line=40,\n",
        "    base_path=data_path\n",
        ")\n",
        "#line 117 di unibo_powertools_data.py"
      ]
    },
    {
      "cell_type": "markdown",
      "metadata": {
        "id": "XlLw41D72Utj"
      },
      "source": [
        "### Determine the training and testing name\n",
        "\n",
        "Prepare the training and testing data for model data handler to load the model input and output data."
      ]
    },
    {
      "cell_type": "code",
      "execution_count": 4,
      "metadata": {
        "colab": {
          "base_uri": "https://localhost:8080/"
        },
        "id": "NSFp-2Rl2Utj",
        "outputId": "856d898b-0bab-49fb-85cf-6d8864a55a0f"
      },
      "outputs": [
        {
          "name": "stderr",
          "output_type": "stream",
          "text": [
            "2025/02/11 17:09:15 [DEBUG]: Start preparing data for training: ['000-DM-3.0-4019-S', '001-DM-3.0-4019-S', '002-DM-3.0-4019-S', '006-EE-2.85-0820-S', '007-EE-2.85-0820-S', '018-DP-2.00-1320-S', '019-DP-2.00-1320-S', '036-DP-2.00-1720-S', '037-DP-2.00-1720-S', '038-DP-2.00-2420-S', '040-DM-4.00-2320-S', '042-EE-2.85-0820-S', '045-BE-2.75-2019-S'] and testing: ['003-DM-3.0-4019-S', '008-EE-2.85-0820-S', '039-DP-2.00-2420-S', '041-DM-4.00-2320-S']...\n",
            "2025/02/11 17:09:24 [DEBUG]: Finish getting training and testing charge data.\n",
            "2025/02/11 17:09:29 [DEBUG]: Finish getting training and testing discharge data.\n",
            "2025/02/11 17:09:29 [DEBUG]: Finish cleaning training and testing charge data.\n",
            "2025/02/11 17:09:29 [DEBUG]: Finish cleaning training and testing discharge data.\n",
            "2025/02/11 17:09:29 [DEBUG]: Finish adding training and testing discharge SOC parameters.\n",
            "2025/02/11 17:09:31 [DEBUG]: Finish adding training and testing discharge SOH parameters.\n",
            "2025/02/11 17:09:31 [DEBUG]: Finish preparing data.\n",
            "2025/02/11 17:09:31 [INFO]: Prepared training charge cycle data: (7697, 856, 12), capacity data: (7697, 15)\n",
            "2025/02/11 17:09:31 [INFO]: Prepared testing charge cycle data: (2025, 854, 12), capacity data: (2025, 15)\n",
            "2025/02/11 17:09:31 [INFO]: Prepared training discharge cycle data: (7697, 286, 14), capacity data: (7697, 20)\n",
            "2025/02/11 17:09:31 [INFO]: Prepared testing discharge cycle data: (2025, 287, 14), capacity data: (2025, 20)\n"
          ]
        }
      ],
      "source": [
        "train_data_test_names = [\n",
        "    '000-DM-3.0-4019-S', \n",
        "    '001-DM-3.0-4019-S', \n",
        "    '002-DM-3.0-4019-S', \n",
        "    '006-EE-2.85-0820-S', \n",
        "    '007-EE-2.85-0820-S', \n",
        "    '018-DP-2.00-1320-S', \n",
        "    '019-DP-2.00-1320-S',\n",
        "    '036-DP-2.00-1720-S', \n",
        "    '037-DP-2.00-1720-S', \n",
        "    '038-DP-2.00-2420-S', \n",
        "    '040-DM-4.00-2320-S',\n",
        "    '042-EE-2.85-0820-S', \n",
        "    '045-BE-2.75-2019-S'\n",
        "]\n",
        "\n",
        "test_data_test_names = [\n",
        "    '003-DM-3.0-4019-S',\n",
        "    '008-EE-2.85-0820-S',\n",
        "    '039-DP-2.00-2420-S', \n",
        "    '041-DM-4.00-2320-S',    \n",
        "]\n",
        "\n",
        "dataset.prepare_data(train_data_test_names, test_data_test_names)"
      ]
    },
    {
      "cell_type": "markdown",
      "metadata": {
        "id": "jcLJjuuB2Utm"
      },
      "source": [
        "### Initial the model data handler\n",
        "\n",
        "Model data handler will be used to get the model input and output data for further training purpose."
      ]
    },
    {
      "cell_type": "code",
      "execution_count": 5,
      "metadata": {
        "id": "k-yTrXQ12Utm"
      },
      "outputs": [],
      "source": [
        "mdh = ModelDataHandler(dataset, [\n",
        "    CycleCols.VOLTAGE,\n",
        "    CycleCols.CURRENT,\n",
        "    CycleCols.TEMPERATURE\n",
        "])"
      ]
    },
    {
      "cell_type": "markdown",
      "metadata": {
        "id": "7iYU-n0K2Utq"
      },
      "source": [
        "# Model training"
      ]
    },
    {
      "cell_type": "code",
      "execution_count": 6,
      "metadata": {
        "colab": {
          "base_uri": "https://localhost:8080/"
        },
        "id": "n6890VzH2Utq",
        "outputId": "74cbbe9c-fe83-43f9-c5a5-ee4986d3a7ec"
      },
      "outputs": [
        {
          "name": "stderr",
          "output_type": "stream",
          "text": [
            "2025/02/11 17:09:35 [INFO]: Train x: (7697, 287, 3), train y: (7697, 287, 2) | Test x: (2025, 287, 3), test y: (2025, 287, 2)\n"
          ]
        }
      ],
      "source": [
        "train_x, train_y, test_x, test_y = mdh.get_discharge_whole_cycle(soh = False, output_capacity = False)\n"
      ]
    },
    {
      "cell_type": "code",
      "execution_count": null,
      "metadata": {},
      "outputs": [],
      "source": [
        "#check that the data are correct"
      ]
    },
    {
      "cell_type": "code",
      "execution_count": 7,
      "metadata": {
        "colab": {
          "base_uri": "https://localhost:8080/"
        },
        "id": "O8_QHu_mN8y3",
        "outputId": "e0087bd3-1448-4920-bdb4-16cbca04f8b7"
      },
      "outputs": [
        {
          "name": "stderr",
          "output_type": "stream",
          "text": [
            "2025/02/11 17:09:38 [INFO]: New y: (7697, 287)\n",
            "2025/02/11 17:09:38 [INFO]: New y: (2025, 287)\n"
          ]
        }
      ],
      "source": [
        "train_y = mdh.keep_only_capacity(train_y, is_multiple_output = True)\n",
        "test_y = mdh.keep_only_capacity(test_y, is_multiple_output = True)"
      ]
    },
    {
      "cell_type": "code",
      "execution_count": 11,
      "metadata": {},
      "outputs": [
        {
          "name": "stdout",
          "output_type": "stream",
          "text": [
            "[1.         0.99999624 0.99525774 0.990519   0.9857793  0.98104143\n",
            " 0.97630054 0.97155994 0.96681845 0.9620781  0.95733654 0.95259774\n",
            " 0.9478571  0.94311637 0.93837684 0.9336353  0.92889416 0.92415273\n",
            " 0.91941196 0.91467184 0.9099484  0.9052082  0.900468   0.8957284\n",
            " 0.89098686 0.88624734 0.8815066  0.8767671  0.8720271  0.8672878\n",
            " 0.86254853 0.8578098  0.8530745  0.8483338  0.843594   0.83885336\n",
            " 0.8341138  0.82937425 0.8246343  0.8198925  0.8151517  0.8104104\n",
            " 0.8056703  0.80092925 0.7961904  0.79144937 0.7867084  0.78196824\n",
            " 0.77722865 0.77248967 0.7677508  0.7630121  0.7582734  0.75353336\n",
            " 0.74879354 0.7440528  0.7393135  0.7345719  0.7298309  0.7250894\n",
            " 0.72034824 0.7156093  0.7108677  0.7061289  0.70138973 0.6966502\n",
            " 0.6919244  0.6871838  0.68244314 0.677704   0.67296934 0.6682284\n",
            " 0.66348827 0.6587492  0.6540084  0.6492678  0.64452654 0.6397867\n",
            " 0.63504577 0.6303056  0.62556624 0.62082714 0.61609495 0.6113561\n",
            " 0.60661507 0.60187674 0.597136   0.59239674 0.58765626 0.5829176\n",
            " 0.5781792  0.57343835 0.5687001  0.5639654  0.5592252  0.5544861\n",
            " 0.5497474  0.54500854 0.54026896 0.5355305  0.53079134 0.52605224\n",
            " 0.5213136  0.5165751  0.51183665 0.5070958  0.5023554  0.4976158\n",
            " 0.49287707 0.48813772 0.48339826 0.47865868 0.47392    0.46918073\n",
            " 0.4644408  0.45970017 0.45496485 0.4502244  0.44548342 0.44074443\n",
            " 0.43600452 0.43126407 0.42652398 0.42178524 0.41704527 0.4123059\n",
            " 0.4075681  0.4028273  0.3980895  0.39335048 0.38861132 0.38387075\n",
            " 0.379131   0.37439078 0.3696524  0.36491337 0.36017442 0.3554353\n",
            " 0.35069627 0.34595737 0.3412178  0.33647853 0.33173752 0.3269988\n",
            " 0.32225925 0.31752    0.3127805  0.30804113 0.30330268 0.29856333\n",
            " 0.29382247 0.28908405 0.2843444  0.2796037  0.27486488 0.2701256\n",
            " 0.26538724 0.26064628 0.2559072  0.25116637 0.24642797 0.24168773\n",
            " 0.23694643 0.23220558 0.22746648 0.22272776 0.21798858 0.21324956\n",
            " 0.20851077 0.20377173 0.19903158 0.19428995 0.18955056 0.18481041\n",
            " 0.18006918 0.17532866 0.1705889  0.16585019 0.16110958 0.15636969\n",
            " 0.15162824 0.14688864 0.14215    0.1374111  0.13267092 0.12793018\n",
            " 0.12319823 0.1184582  0.11371838 0.10897963 0.10424068 0.09950136\n",
            " 0.09476219 0.09002261 0.0852837  0.08054348 0.075805   0.07106643\n",
            " 0.06632674 0.06158724 0.05684724 0.05210786 0.04736646 0.04262659\n",
            " 0.03788558 0.03314623 0.02840682 0.02366739 0.01892826 0.01418872\n",
            " 0.00944881 0.00475288 1.         1.         1.         1.\n",
            " 1.         1.         1.         1.         1.         1.\n",
            " 1.         1.         1.         1.         1.         1.\n",
            " 1.         1.         1.         1.         1.         1.\n",
            " 1.         1.         1.         1.         1.         1.\n",
            " 1.         1.         1.         1.         1.         1.\n",
            " 1.         1.         1.         1.         1.         1.\n",
            " 1.         1.         1.         1.         1.         1.\n",
            " 1.         1.         1.         1.         1.         1.\n",
            " 1.         1.         1.         1.         1.         1.\n",
            " 1.         1.         1.         1.         1.         1.\n",
            " 1.         1.         1.         1.         1.         1.\n",
            " 1.         1.         1.         1.         0.        ]\n"
          ]
        }
      ],
      "source": [
        "print(train_y[0])"
      ]
    },
    {
      "cell_type": "code",
      "execution_count": 8,
      "metadata": {
        "colab": {
          "base_uri": "https://localhost:8080/"
        },
        "id": "LSx96n4w2Uts",
        "outputId": "67060822-e91c-4299-acff-1d183c287d1c"
      },
      "outputs": [
        {
          "name": "stdout",
          "output_type": "stream",
          "text": [
            "2025-02-11-17-09-41_lstm_soc_percentage\n"
          ]
        },
        {
          "name": "stderr",
          "output_type": "stream",
          "text": [
            "/home/dna/miniconda3/envs/TS/lib/python3.10/site-packages/keras/optimizers/optimizer_v2/adam.py:114: UserWarning: The `lr` argument is deprecated, use `learning_rate` instead.\n",
            "  super().__init__(name, **kwargs)\n",
            "2025-02-11 17:09:43.495030: I tensorflow/stream_executor/cuda/cuda_gpu_executor.cc:966] could not open file to read NUMA node: /sys/bus/pci/devices/0000:01:00.0/numa_node\n",
            "Your kernel may have been built without NUMA support.\n",
            "2025-02-11 17:09:43.497095: W tensorflow/stream_executor/platform/default/dso_loader.cc:64] Could not load dynamic library 'libcudart.so.11.0'; dlerror: libcudart.so.11.0: cannot open shared object file: No such file or directory\n",
            "2025-02-11 17:09:43.497205: W tensorflow/stream_executor/platform/default/dso_loader.cc:64] Could not load dynamic library 'libcublas.so.11'; dlerror: libcublas.so.11: cannot open shared object file: No such file or directory\n",
            "2025-02-11 17:09:43.497255: W tensorflow/stream_executor/platform/default/dso_loader.cc:64] Could not load dynamic library 'libcublasLt.so.11'; dlerror: libcublasLt.so.11: cannot open shared object file: No such file or directory\n",
            "2025-02-11 17:09:43.497560: W tensorflow/stream_executor/platform/default/dso_loader.cc:64] Could not load dynamic library 'libcufft.so.10'; dlerror: libcufft.so.10: cannot open shared object file: No such file or directory\n",
            "2025-02-11 17:09:43.498051: W tensorflow/stream_executor/platform/default/dso_loader.cc:64] Could not load dynamic library 'libcurand.so.10'; dlerror: libcurand.so.10: cannot open shared object file: No such file or directory\n",
            "2025-02-11 17:09:43.498234: W tensorflow/stream_executor/platform/default/dso_loader.cc:64] Could not load dynamic library 'libcusolver.so.11'; dlerror: libcusolver.so.11: cannot open shared object file: No such file or directory\n",
            "2025-02-11 17:09:43.498309: W tensorflow/stream_executor/platform/default/dso_loader.cc:64] Could not load dynamic library 'libcusparse.so.11'; dlerror: libcusparse.so.11: cannot open shared object file: No such file or directory\n",
            "2025-02-11 17:09:43.498346: W tensorflow/stream_executor/platform/default/dso_loader.cc:64] Could not load dynamic library 'libcudnn.so.8'; dlerror: libcudnn.so.8: cannot open shared object file: No such file or directory\n",
            "2025-02-11 17:09:43.498353: W tensorflow/core/common_runtime/gpu/gpu_device.cc:1934] Cannot dlopen some GPU libraries. Please make sure the missing libraries mentioned above are installed properly if you would like to use GPU. Follow the guide at https://www.tensorflow.org/install/gpu for how to download and setup the required libraries for your platform.\n",
            "Skipping registering GPU devices...\n",
            "2025-02-11 17:09:43.504616: I tensorflow/core/platform/cpu_feature_guard.cc:193] This TensorFlow binary is optimized with oneAPI Deep Neural Network Library (oneDNN) to use the following CPU instructions in performance-critical operations:  AVX2 AVX_VNNI FMA\n",
            "To enable them in other operations, rebuild TensorFlow with the appropriate compiler flags.\n"
          ]
        },
        {
          "name": "stdout",
          "output_type": "stream",
          "text": [
            "Model: \"sequential\"\n",
            "_________________________________________________________________\n",
            " Layer (type)                Output Shape              Param #   \n",
            "=================================================================\n",
            " lstm (LSTM)                 (None, 287, 256)          266240    \n",
            "                                                                 \n",
            " lstm_1 (LSTM)               (None, 287, 256)          525312    \n",
            "                                                                 \n",
            " lstm_2 (LSTM)               (None, 287, 128)          197120    \n",
            "                                                                 \n",
            " dense (Dense)               (None, 287, 64)           8256      \n",
            "                                                                 \n",
            " dense_1 (Dense)             (None, 287, 1)            65        \n",
            "                                                                 \n",
            "=================================================================\n",
            "Total params: 996,993\n",
            "Trainable params: 996,993\n",
            "Non-trainable params: 0\n",
            "_________________________________________________________________\n"
          ]
        }
      ],
      "source": [
        "EXPERIMENT = \"lstm_soc_percentage\"\n",
        "\n",
        "experiment_name = time.strftime(\"%Y-%m-%d-%H-%M-%S\") + '_' + EXPERIMENT\n",
        "print(experiment_name)\n",
        "\n",
        "# Model definition\n",
        "\n",
        "opt = tf.keras.optimizers.Adam(lr=0.00003)\n",
        "\n",
        "model = Sequential()\n",
        "model.add(LSTM(256, activation='selu',\n",
        "                return_sequences=True,\n",
        "                input_shape=(train_x.shape[1], train_x.shape[2])))\n",
        "model.add(LSTM(256, activation='selu', return_sequences=True))\n",
        "model.add(LSTM(128, activation='selu', return_sequences=True))\n",
        "model.add(Dense(64, activation='selu'))\n",
        "model.add(Dense(1, activation='linear'))\n",
        "model.summary()\n",
        "\n",
        "model.compile(optimizer=opt, loss='huber', metrics=['mse', 'mae', 'mape', tf.keras.metrics.RootMeanSquaredError(name='rmse')])\n",
        "\n",
        "es = EarlyStopping(monitor='val_loss', patience=50)\n",
        "mc = ModelCheckpoint(data_path + 'results/trained_model/%s_best.h5' % experiment_name, \n",
        "                             save_best_only=True, \n",
        "                             monitor='val_loss')"
      ]
    },
    {
      "cell_type": "code",
      "execution_count": null,
      "metadata": {
        "colab": {
          "base_uri": "https://localhost:8080/"
        },
        "id": "AIEcv6Ey2Utu",
        "outputId": "68b17143-7cab-4ba0-ea34-e95d7403fc92"
      },
      "outputs": [],
      "source": [
        "history = model.fit(train_x, train_y, \n",
        "                                epochs=30, \n",
        "                                batch_size=32, \n",
        "                                verbose=1,\n",
        "                                validation_split=0.2,\n",
        "                                callbacks = [es, mc]\n",
        "                               )"
      ]
    },
    {
      "cell_type": "code",
      "execution_count": null,
      "metadata": {
        "id": "oNHlqcvP2Utx"
      },
      "outputs": [],
      "source": [
        "model.save(data_path + 'results/trained_model/%s.h5' % experiment_name)\n",
        "\n",
        "hist_df = pd.DataFrame(history.history)\n",
        "hist_csv_file = data_path + 'results/trained_model/%s_history.csv' % experiment_name\n",
        "with open(hist_csv_file, mode='w') as f:\n",
        "    hist_df.to_csv(f)"
      ]
    },
    {
      "cell_type": "markdown",
      "metadata": {
        "id": "LH5RANQIEQVx"
      },
      "source": [
        "### Testing"
      ]
    },
    {
      "cell_type": "code",
      "execution_count": null,
      "metadata": {
        "colab": {
          "base_uri": "https://localhost:8080/"
        },
        "id": "ggNKW-VqENFN",
        "outputId": "1c98ec83-5c28-4557-d4c3-2a968c755a11"
      },
      "outputs": [],
      "source": [
        "results = model.evaluate(test_x, test_y)\n",
        "print(results)"
      ]
    },
    {
      "cell_type": "markdown",
      "metadata": {
        "id": "uiqyD8Bn2Utz"
      },
      "source": [
        "# Data Visualization"
      ]
    },
    {
      "cell_type": "code",
      "execution_count": null,
      "metadata": {
        "colab": {
          "base_uri": "https://localhost:8080/",
          "height": 637
        },
        "id": "jH9RrBRN2Utz",
        "outputId": "cc642260-a663-4368-c05e-3a7b16c373bc"
      },
      "outputs": [],
      "source": [
        "fig = go.Figure()\n",
        "fig.add_trace(go.Scatter(y=history.history['loss'],\n",
        "                    mode='lines', name='train'))\n",
        "fig.add_trace(go.Scatter(y=history.history['val_loss'],\n",
        "                    mode='lines', name='validation'))\n",
        "fig.update_layout(title='Loss trend',\n",
        "                  xaxis_title='epoch',\n",
        "                  yaxis_title='loss',\n",
        "                  width=1400,\n",
        "                  height=600)\n",
        "fig.show()"
      ]
    },
    {
      "cell_type": "code",
      "execution_count": null,
      "metadata": {
        "id": "gtLOteXd-d6n"
      },
      "outputs": [],
      "source": [
        "train_predictions = model.predict(train_x)"
      ]
    },
    {
      "cell_type": "code",
      "execution_count": null,
      "metadata": {
        "colab": {
          "base_uri": "https://localhost:8080/",
          "height": 637
        },
        "id": "ZsYMPQ0i2Ut1",
        "outputId": "6eb3295c-3fc3-4d06-8946-5510da3f5e93"
      },
      "outputs": [],
      "source": [
        "cycle_num = 0\n",
        "steps_num = 8000\n",
        "step_index = np.arange(cycle_num*steps_num, (cycle_num+1)*steps_num)\n",
        "\n",
        "fig = go.Figure()\n",
        "fig.add_trace(go.Scatter(x=step_index, y=train_predictions.flatten()[cycle_num*steps_num:(cycle_num+1)*steps_num],\n",
        "                    mode='lines', name='SoC predicted'))\n",
        "fig.add_trace(go.Scatter(x=step_index, y=train_y.flatten()[cycle_num*steps_num:(cycle_num+1)*steps_num],\n",
        "                    mode='lines', name='SoC actual'))\n",
        "fig.update_layout(title='Results on training',\n",
        "                  xaxis_title='Cycle',\n",
        "                  yaxis_title='SoC percentage',\n",
        "                  width=1400,\n",
        "                  height=600)\n",
        "fig.show()"
      ]
    },
    {
      "cell_type": "code",
      "execution_count": null,
      "metadata": {
        "id": "m0olyqr4-8BG"
      },
      "outputs": [],
      "source": [
        "test_predictions = model.predict(test_x)"
      ]
    },
    {
      "cell_type": "code",
      "execution_count": null,
      "metadata": {
        "colab": {
          "base_uri": "https://localhost:8080/",
          "height": 637
        },
        "id": "9U1MbGnq2Ut4",
        "outputId": "91548d86-e08b-4e04-8c63-12138a2aa5e9"
      },
      "outputs": [],
      "source": [
        "cycle_num = 0\n",
        "steps_num = 1000\n",
        "step_index = np.arange(cycle_num*steps_num, (cycle_num+1)*steps_num)\n",
        "\n",
        "fig = go.Figure()\n",
        "fig.add_trace(go.Scatter(x=step_index, y=test_predictions.flatten()[cycle_num*steps_num:(cycle_num+1)*steps_num],\n",
        "                    mode='lines', name='SoC predicted'))\n",
        "fig.add_trace(go.Scatter(x=step_index, y=test_y.flatten()[cycle_num*steps_num:(cycle_num+1)*steps_num],\n",
        "                    mode='lines', name='SoC actual'))\n",
        "fig.update_layout(title='Results on testing',\n",
        "                  xaxis_title='Cycle',\n",
        "                  yaxis_title='SoC percentage',\n",
        "                  width=1400,\n",
        "                  height=600)\n",
        "fig.show()"
      ]
    }
  ],
  "metadata": {
    "accelerator": "GPU",
    "colab": {
      "collapsed_sections": [],
      "name": "lstm_soc_percentage.ipynb",
      "provenance": []
    },
    "kernelspec": {
      "display_name": "TS",
      "language": "python",
      "name": "python3"
    },
    "language_info": {
      "codemirror_mode": {
        "name": "ipython",
        "version": 3
      },
      "file_extension": ".py",
      "mimetype": "text/x-python",
      "name": "python",
      "nbconvert_exporter": "python",
      "pygments_lexer": "ipython3",
      "version": "3.10.16"
    }
  },
  "nbformat": 4,
  "nbformat_minor": 2
}
